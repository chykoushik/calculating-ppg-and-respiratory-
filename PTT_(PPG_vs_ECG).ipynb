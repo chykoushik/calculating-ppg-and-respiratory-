{
  "nbformat": 4,
  "nbformat_minor": 0,
  "metadata": {
    "colab": {
      "provenance": []
    },
    "kernelspec": {
      "name": "python3",
      "display_name": "Python 3"
    },
    "language_info": {
      "name": "python"
    }
  },
  "cells": [
    {
      "cell_type": "code",
      "execution_count": 62,
      "metadata": {
        "id": "BSbZrXC4fPDF"
      },
      "outputs": [],
      "source": [
        "import h5py\n",
        "import numpy as np\n",
        "from scipy.signal import butter, filtfilt, find_peaks\n",
        "\n",
        "# Load the .mat file\n",
        "file_path = 'Group7_ECG.mat'\n",
        "with h5py.File(file_path, 'r') as mat_file:\n",
        "    ecg_array = np.array(mat_file['y'])"
      ]
    },
    {
      "cell_type": "code",
      "source": [
        "print(ecg_array[:5, :])"
      ],
      "metadata": {
        "colab": {
          "base_uri": "https://localhost:8080/"
        },
        "id": "976fyf4Tjt2l",
        "outputId": "2d701122-e194-4e6a-fa1f-871ba282598e"
      },
      "execution_count": 52,
      "outputs": [
        {
          "output_type": "stream",
          "name": "stdout",
          "text": [
            "[[ 0.00000000e+00 -1.16341957e+02 -8.24717484e+01 -1.27118271e+02]\n",
            " [ 3.90625000e-03  1.06496758e+02 -9.22375098e+03 -7.66658545e+03]\n",
            " [ 7.81250000e-03 -2.80737134e+03 -6.70080566e+03  4.31451202e+02]\n",
            " [ 1.17187500e-02 -2.91408789e+03 -1.03772500e+04 -1.99798657e+03]\n",
            " [ 1.56250000e-02 -2.89019385e+03 -1.11691230e+04 -1.50359070e+03]]\n"
          ]
        }
      ]
    },
    {
      "cell_type": "code",
      "source": [
        "for i in range(ecg_array.shape[1]):\n",
        "    print(f\"Column {i}: Mean = {np.mean(ecg_array[:, i]):.2f}, Std = {np.std(ecg_array[:, i]):.2f}\")"
      ],
      "metadata": {
        "colab": {
          "base_uri": "https://localhost:8080/"
        },
        "id": "6wLm6i5vj0It",
        "outputId": "ea7ee5dd-e872-4696-854c-ee104af41798"
      },
      "execution_count": 53,
      "outputs": [
        {
          "output_type": "stream",
          "name": "stdout",
          "text": [
            "Column 0: Mean = 72.39, Std = 41.80\n",
            "Column 1: Mean = -1746.11, Std = 1013.43\n",
            "Column 2: Mean = -8987.56, Std = 1711.85\n",
            "Column 3: Mean = 1021.48, Std = 1084.01\n"
          ]
        }
      ]
    },
    {
      "cell_type": "code",
      "source": [
        "# bandpass filter\n",
        "def bandpass_filter(data, lowcut, highcut, fs, order=4):\n",
        "    nyquist = 0.5 * fs\n",
        "    low = lowcut / nyquist\n",
        "    high = highcut / nyquist\n",
        "    b, a = butter(order, [low, high], btype='band')\n",
        "    return filtfilt(b, a, data)"
      ],
      "metadata": {
        "id": "WQO0nJwrl_KI"
      },
      "execution_count": 54,
      "outputs": []
    },
    {
      "cell_type": "code",
      "source": [
        "# Load PPG data\n",
        "ppg_file_path = 'Group7_PPG.mat'\n",
        "with h5py.File(ppg_file_path, 'r') as ppg_file:\n",
        "    ppg_data = np.array(ppg_file['y'])"
      ],
      "metadata": {
        "id": "OpQ9QnKpl_NH"
      },
      "execution_count": 63,
      "outputs": []
    },
    {
      "cell_type": "code",
      "source": [
        "# Extract time and signals\n",
        "ecg_time = ecg_array[:, 0]  # Time\n",
        "ecg_signal = ecg_array[:, 1]  # ECG signal\n",
        "ppg_time = ppg_data[:, 0]  # Time\n",
        "ppg_signal = ppg_data[:, 2]  # PPG signal"
      ],
      "metadata": {
        "id": "y32r_s4dmNE5"
      },
      "execution_count": 64,
      "outputs": []
    },
    {
      "cell_type": "code",
      "source": [
        "min_length = min(len(ecg_time), len(ppg_time))\n",
        "merged_time = ecg_time[:min_length]  # Use the shorter time array\n",
        "ecg_signal = ecg_signal[:min_length]\n",
        "ppg_signal = ppg_signal[:min_length]\n",
        "\n",
        "fs = 256  # 256Hz\n",
        "lowcut = 0.5\n",
        "highcut = 10\n",
        "filtered_ecg_signal = bandpass_filter(ecg_signal, lowcut, highcut, fs)\n",
        "\n",
        "# R-peaks in the ECG signal\n",
        "ecg_peaks, _ = find_peaks(filtered_ecg_signal, distance=fs /4)\n",
        "\n",
        "# peaks in the PPG signal\n",
        "ppg_peaks, _ = find_peaks(ppg_signal, distance=fs /4)"
      ],
      "metadata": {
        "id": "tFptJlgmmNHq"
      },
      "execution_count": 65,
      "outputs": []
    },
    {
      "cell_type": "markdown",
      "source": [
        "**PTT: ECG Vs Resting PPG**"
      ],
      "metadata": {
        "id": "B6kzdfBemto7"
      }
    },
    {
      "cell_type": "code",
      "source": [
        "# Calculate PTT values\n",
        "ptt_values = []\n",
        "for r_peak in ecg_peaks:\n",
        "    ppg_after_r = ppg_peaks[ppg_peaks > r_peak]  # Find the first PPG peak after the R-peak\n",
        "    if len(ppg_after_r) > 0:\n",
        "        ptt = merged_time[ppg_after_r[0]] - merged_time[r_peak] #calculate ptt\n",
        "        ptt_values.append(ptt)\n",
        "\n",
        "ptt_values = np.array(ptt_values)\n",
        "\n",
        "average_ptt = np.mean(ptt_values)\n",
        "std_ptt = np.std(ptt_values)"
      ],
      "metadata": {
        "id": "J7FvDOJKy16B"
      },
      "execution_count": null,
      "outputs": []
    },
    {
      "cell_type": "code",
      "source": [
        "print(f\"Average PTT: {average_ptt:.3f} seconds\")\n",
        "print(f\"Standard Deviation of PTT: {std_ptt:.3f} seconds\")"
      ],
      "metadata": {
        "colab": {
          "base_uri": "https://localhost:8080/"
        },
        "id": "p_eL2bGSmNKY",
        "outputId": "2c10ff14-97df-40d1-fd80-b697818af085"
      },
      "execution_count": 66,
      "outputs": [
        {
          "output_type": "stream",
          "name": "stdout",
          "text": [
            "Average PTT: 0.173 seconds\n",
            "Standard Deviation of PTT: 0.109 seconds\n"
          ]
        }
      ]
    },
    {
      "cell_type": "markdown",
      "source": [
        "**PTT: ECG vs Sport PPG**"
      ],
      "metadata": {
        "id": "AXHu6Mb-mywZ"
      }
    },
    {
      "cell_type": "code",
      "source": [
        "print(f\"Average PTT: {average_ptt:.3f} seconds\")\n",
        "print(f\"Standard Deviation of PTT: {std_ptt:.3f} seconds\")"
      ],
      "metadata": {
        "colab": {
          "base_uri": "https://localhost:8080/"
        },
        "id": "f9xaMIc4m2ah",
        "outputId": "8c19679f-96dc-40bb-918d-5505fce214fe"
      },
      "execution_count": 59,
      "outputs": [
        {
          "output_type": "stream",
          "name": "stdout",
          "text": [
            "Average PTT: 0.187 seconds\n",
            "Standard Deviation of PTT: 0.106 seconds\n"
          ]
        }
      ]
    },
    {
      "cell_type": "code",
      "source": [
        "import matplotlib.pyplot as plt\n",
        "\n",
        "\n",
        "categories = ['Resting: 0.173; sd: 0.187', 'Sport PPG: 0.106; sd: 0.109']\n",
        "means = [0.173, 0.187]\n",
        "std_devs = [0.106, 0.109]\n",
        "\n",
        "plt.figure(figsize=(6, 4))\n",
        "plt.plot(categories, means, marker='o', linestyle='-', color='red', label='PTT (Average)')\n",
        "plt.errorbar(categories, means, yerr=std_devs, fmt='o', color='blue', capsize=5, label='Standard Deviation')\n",
        "\n",
        "plt.title('PTT: ECG and Resting PPG vs ECG and Sport PPG')\n",
        "plt.ylabel('PTT (seconds)')\n",
        "plt.xlabel('Condition')\n",
        "\n",
        "\n",
        "plt.legend()\n",
        "plt.tight_layout()\n",
        "plt.show()\n"
      ],
      "metadata": {
        "colab": {
          "base_uri": "https://localhost:8080/",
          "height": 407
        },
        "id": "r79pIt12nV_c",
        "outputId": "354dcfa8-0865-4e1f-be96-f32d38f8f2bc"
      },
      "execution_count": 68,
      "outputs": [
        {
          "output_type": "display_data",
          "data": {
            "text/plain": [
              "<Figure size 600x400 with 1 Axes>"
            ],
            "image/png": "[encoded data removed]"
          },
          "metadata": {}
        }
      ]
    }
  ]
}